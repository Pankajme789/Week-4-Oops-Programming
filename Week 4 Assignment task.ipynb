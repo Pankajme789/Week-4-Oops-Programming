{
 "cells": [
  {
   "cell_type": "code",
   "execution_count": 3,
   "id": "086be088-dd11-46ae-833a-7a1ad9107a38",
   "metadata": {},
   "outputs": [],
   "source": [
    "#Q1, Create a vehicle class with an init method having instance variables as name_of_vehicle, max_speed and average_of_vehicle. "
   ]
  },
  {
   "cell_type": "code",
   "execution_count": 4,
   "id": "af61e5f6-dcd2-4c08-9557-f9f69e040ef3",
   "metadata": {},
   "outputs": [],
   "source": [
    "class Vehical:\n",
    "    def __init__(self, name_of_vehical, max_speed, average_of_vehical):\n",
    "        self.name_of_vehical = name_of_vehical\n",
    "        self.max_speed = max_speed\n",
    "        self.average_of_vehical = average_of_vehical   \n"
   ]
  },
  {
   "cell_type": "code",
   "execution_count": 11,
   "id": "483a438d-4c55-4abf-95a5-490969198741",
   "metadata": {},
   "outputs": [
    {
     "name": "stdout",
     "output_type": "stream",
     "text": [
      "Name: Toyota Camry\n",
      "Speed: 180\n",
      "Average: 30\n"
     ]
    }
   ],
   "source": [
    "#Examples:\n",
    "    \n",
    "car = Vehical(\"Toyota Camry\", 180, 30)\n",
    "print(\"Name:\", car.name_of_vehical)\n",
    "print(\"Speed:\",car.max_speed)\n",
    "print(\"Average:\",car.average_of_vehical)    \n",
    "      "
   ]
  },
  {
   "cell_type": "code",
   "execution_count": null,
   "id": "17efec65-ebe0-44cd-9026-ed39f3cee404",
   "metadata": {},
   "outputs": [],
   "source": [
    "#Q2.  Create a child class car from the vehicle class created in Que 1, which will inherit the vehicle class. \n",
    "#Create a method named seating_capacity which takes capacity as an argument and returns the name of the vehicle and its seating capacity."
   ]
  },
  {
   "cell_type": "code",
   "execution_count": 17,
   "id": "11240e84-60f2-41ea-a3fe-8a1db2a15c1d",
   "metadata": {},
   "outputs": [],
   "source": [
    "class Car(Vehical):\n",
    "    def seating_capacity(self, capacity):\n",
    "        return f\"{self.name_of_vehical} has a seating capacity of {capacity}.\""
   ]
  },
  {
   "cell_type": "code",
   "execution_count": 20,
   "id": "225103a1-7cf6-4918-9835-751336029c19",
   "metadata": {},
   "outputs": [
    {
     "name": "stdout",
     "output_type": "stream",
     "text": [
      "Tata nexus has a seating capacity of 4.\n"
     ]
    }
   ],
   "source": [
    "# Example usage:\n",
    "car = Car(\"Tata nexus\", 180, 30)\n",
    "print(car.seating_capacity(4))"
   ]
  },
  {
   "cell_type": "code",
   "execution_count": 23,
   "id": "d388c36c-23f4-4088-b722-f50968469494",
   "metadata": {},
   "outputs": [],
   "source": [
    "#Q3. What is multiple inheritance? Write a python code to demonstrate multiple inheritance."
   ]
  },
  {
   "cell_type": "code",
   "execution_count": 35,
   "id": "1841b810-ce25-439f-9ad6-8c9f83d4d78d",
   "metadata": {},
   "outputs": [],
   "source": [
    "# Parent class 1\n",
    "class Parent1:\n",
    "    def __init__(self):\n",
    "        self.name1 = \"Parent1\"\n"
   ]
  },
  {
   "cell_type": "code",
   "execution_count": 34,
   "id": "bdbf9f84-f2a5-4256-8f22-594b4773f346",
   "metadata": {},
   "outputs": [],
   "source": [
    "    def method1(self):\n",
    "        print(\"Method from Parent1\")"
   ]
  },
  {
   "cell_type": "code",
   "execution_count": null,
   "id": "67361c60-3951-4e73-901b-9d874e6f85d6",
   "metadata": {},
   "outputs": [],
   "source": [
    "# Parent class 2\n",
    "class Parent2:\n",
    "    def __init__(self):\n",
    "        self.name2 = \"Parent2\""
   ]
  },
  {
   "cell_type": "code",
   "execution_count": null,
   "id": "c7ad3863-7ead-4ee7-9de9-c298f085e7b0",
   "metadata": {},
   "outputs": [],
   "source": [
    "    def method2(self):\n",
    "        print(\"Method from Parent2\")"
   ]
  },
  {
   "cell_type": "code",
   "execution_count": 46,
   "id": "d0fdca29-2ce6-48f6-b4cf-d2d74b407c38",
   "metadata": {},
   "outputs": [
    {
     "ename": "AttributeError",
     "evalue": "'Child' object has no attribute 'method1'",
     "output_type": "error",
     "traceback": [
      "\u001b[0;31m---------------------------------------------------------------------------\u001b[0m",
      "\u001b[0;31mAttributeError\u001b[0m                            Traceback (most recent call last)",
      "Cell \u001b[0;32mIn[46], line 14\u001b[0m\n\u001b[1;32m     11\u001b[0m child_instance \u001b[38;5;241m=\u001b[39m Child()\n\u001b[1;32m     13\u001b[0m \u001b[38;5;66;03m# Access methods from Parent1, Parent2, and Child\u001b[39;00m\n\u001b[0;32m---> 14\u001b[0m \u001b[43mchild_instance\u001b[49m\u001b[38;5;241;43m.\u001b[39;49m\u001b[43mmethod1\u001b[49m()  \u001b[38;5;66;03m# Method from Parent1\u001b[39;00m\n\u001b[1;32m     15\u001b[0m child_instance\u001b[38;5;241m.\u001b[39mmethod2()  \u001b[38;5;66;03m# Method from Parent2\u001b[39;00m\n\u001b[1;32m     16\u001b[0m child_instance\u001b[38;5;241m.\u001b[39mmethod_child()  \u001b[38;5;66;03m# Method from Child\u001b[39;00m\n",
      "\u001b[0;31mAttributeError\u001b[0m: 'Child' object has no attribute 'method1'"
     ]
    }
   ],
   "source": [
    "class Child(Parent1, Parent2):\n",
    "    def __init__(self):\n",
    "        # Call constructors of Parent1 and Parent2\n",
    "        Parent1.__init__(self)\n",
    "        Parent2.__init__(self)\n",
    "    \n",
    "    def method_child(self):\n",
    "        print(\"Method from Child\")\n",
    "        \n",
    "# Create an instance of Child\n",
    "child_instance = Child()\n",
    "\n",
    "# Access methods from Parent1, Parent2, and Child\n",
    "child_instance.method1()  # Method from Parent1\n",
    "child_instance.method2()  # Method from Parent2\n",
    "child_instance.method_child()  # Method from Child\n",
    "\n",
    "# Access attributes from Parent1 and Parent2\n",
    "print(child_instance.name1)  # Parent1\n",
    "print(child_instance.name2)  # Parent2"
   ]
  },
  {
   "cell_type": "code",
   "execution_count": 26,
   "id": "f379bae5-60f0-4f69-ab44-9fbff75406a4",
   "metadata": {},
   "outputs": [],
   "source": [
    "#Q4. What are getter and setter in python? Create a class and create a getter and a setter method in this class.\n"
   ]
  },
  {
   "cell_type": "code",
   "execution_count": 31,
   "id": "f835edca-c33b-4db4-b3a0-81ad338058d4",
   "metadata": {},
   "outputs": [
    {
     "name": "stdout",
     "output_type": "stream",
     "text": [
      "Age: 25\n"
     ]
    }
   ],
   "source": [
    "class Person:\n",
    "    def __init__(self, age):\n",
    "        self._age = age  # Private attribute\n",
    "\n",
    "    @property\n",
    "    def age(self):\n",
    "        \"\"\"Getter method for age\"\"\"\n",
    "        return self._age\n",
    "\n",
    "    @age.setter\n",
    "    def age(self, value):\n",
    "        \"\"\"Setter method for age\"\"\"\n",
    "        if value < 0:\n",
    "            raise ValueError(\"Age cannot be negative\")\n",
    "        self._age = value\n",
    "\n",
    "# Creating an instance of Person\n",
    "person = Person(25)\n",
    "\n",
    "print(\"Age:\", person.age)\n"
   ]
  },
  {
   "cell_type": "code",
   "execution_count": 29,
   "id": "9b101f6c-469a-40eb-aaa5-aab3fa9bff14",
   "metadata": {},
   "outputs": [
    {
     "name": "stdout",
     "output_type": "stream",
     "text": [
      "Updated Age: 30\n"
     ]
    }
   ],
   "source": [
    "person.age = 30\n",
    "print(\"Updated Age:\", person.age) "
   ]
  },
  {
   "cell_type": "code",
   "execution_count": 30,
   "id": "fe716251-24dd-4bdf-aea1-f01d461ad06f",
   "metadata": {},
   "outputs": [
    {
     "name": "stdout",
     "output_type": "stream",
     "text": [
      "Error: Age cannot be negative\n"
     ]
    }
   ],
   "source": [
    "try:\n",
    "    person.age = -5\n",
    "except ValueError as e:\n",
    "    print(\"Error:\", e) "
   ]
  },
  {
   "cell_type": "code",
   "execution_count": 48,
   "id": "8efbf00c-c68e-4a21-b9ed-7e146b8c55bb",
   "metadata": {},
   "outputs": [],
   "source": [
    "#Q5.What is method overriding in python? Write a python code to demonstrate method overriding."
   ]
  },
  {
   "cell_type": "code",
   "execution_count": 65,
   "id": "31e2baba-6df2-469a-859a-db95cc50b30b",
   "metadata": {},
   "outputs": [],
   "source": [
    "\n",
    "class Animal:\n",
    "    def sound(self):\n",
    "        print(\"This is a generic animal sound\")"
   ]
  },
  {
   "cell_type": "code",
   "execution_count": 66,
   "id": "60b034e2-9085-4847-899c-1e43f32679cc",
   "metadata": {},
   "outputs": [],
   "source": [
    "# Derived class\n",
    "class Dog(Animal):\n",
    "    def sound(self):\n",
    "        print(\"Bark\")"
   ]
  },
  {
   "cell_type": "code",
   "execution_count": 67,
   "id": "c071916f-d6f7-4731-9dd7-d43431c4c3d2",
   "metadata": {},
   "outputs": [],
   "source": [
    "generic_animal = Animal()\n",
    "dog = Dog()"
   ]
  },
  {
   "cell_type": "code",
   "execution_count": 68,
   "id": "322d41b2-cefe-4d41-8523-63b1c3cf6ee7",
   "metadata": {},
   "outputs": [
    {
     "name": "stdout",
     "output_type": "stream",
     "text": [
      "This is a generic animal sound\n"
     ]
    }
   ],
   "source": [
    "generic_animal.sound()"
   ]
  },
  {
   "cell_type": "code",
   "execution_count": 70,
   "id": "1af48687-fe82-44ea-9519-c7d5b39733fa",
   "metadata": {},
   "outputs": [
    {
     "name": "stdout",
     "output_type": "stream",
     "text": [
      "Bark\n"
     ]
    }
   ],
   "source": [
    "dog.sound()"
   ]
  }
 ],
 "metadata": {
  "kernelspec": {
   "display_name": "Python 3 (ipykernel)",
   "language": "python",
   "name": "python3"
  },
  "language_info": {
   "codemirror_mode": {
    "name": "ipython",
    "version": 3
   },
   "file_extension": ".py",
   "mimetype": "text/x-python",
   "name": "python",
   "nbconvert_exporter": "python",
   "pygments_lexer": "ipython3",
   "version": "3.10.8"
  }
 },
 "nbformat": 4,
 "nbformat_minor": 5
}
