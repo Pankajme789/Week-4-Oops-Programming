{
 "cells": [
  {
   "cell_type": "code",
   "execution_count": 1,
   "id": "599bb992-c444-4437-be61-5e17d80a7bee",
   "metadata": {},
   "outputs": [],
   "source": [
    "#Q1. Explain Class and Object with respect to Object-Oriented Programming. Give a suitable example."
   ]
  },
  {
   "cell_type": "code",
   "execution_count": 12,
   "id": "c69a7ef8-69f3-4c67-a1be-4603b1518219",
   "metadata": {},
   "outputs": [],
   "source": [
    "class Car:\n",
    "\n",
    "    def __init__(self, make, model, year):\n",
    "        self.make = make\n",
    "        self.model = model\n",
    "        self.year = year\n",
    "\n",
    "    def display_info(self):\n",
    "        print(f\"Car Details: {self.year} {self.make} {self.model}\")\n",
    "\n",
    "    def start_engine(self):\n",
    "        print(f\"The {self.make} {self.model} engine has started.\")"
   ]
  },
  {
   "cell_type": "code",
   "execution_count": 10,
   "id": "1cb3eae7-4cfc-4cf2-a443-f98502a39a51",
   "metadata": {},
   "outputs": [],
   "source": [
    "car1 = Car(\"Toyota\", \"Camry\", 2020)\n",
    "\n",
    "car2 = Car(\"Honda\", \"Accord\", 2021)"
   ]
  },
  {
   "cell_type": "code",
   "execution_count": 11,
   "id": "89281ece-0244-45f0-a1c6-e1c544dca226",
   "metadata": {},
   "outputs": [
    {
     "name": "stdout",
     "output_type": "stream",
     "text": [
      "Car Details: 2020 Toyota Camry\n"
     ]
    }
   ],
   "source": [
    "car1.display_info()"
   ]
  },
  {
   "cell_type": "code",
   "execution_count": 5,
   "id": "fed02ad7-437b-47f8-8c1d-71d4807054fc",
   "metadata": {},
   "outputs": [
    {
     "name": "stdout",
     "output_type": "stream",
     "text": [
      "The Toyota Camry engine has started.\n"
     ]
    }
   ],
   "source": [
    "car1.start_engine() "
   ]
  },
  {
   "cell_type": "code",
   "execution_count": 6,
   "id": "afe9728c-75ff-4cbc-9271-f7010bd980a9",
   "metadata": {},
   "outputs": [
    {
     "name": "stdout",
     "output_type": "stream",
     "text": [
      "Car Details: 2021 Honda Accord\n"
     ]
    }
   ],
   "source": [
    "car2.display_info()"
   ]
  },
  {
   "cell_type": "code",
   "execution_count": 7,
   "id": "3426db22-bb66-43be-aba0-30f0118b57f7",
   "metadata": {},
   "outputs": [
    {
     "name": "stdout",
     "output_type": "stream",
     "text": [
      "The Honda Accord engine has started.\n"
     ]
    }
   ],
   "source": [
    "car2.start_engine() "
   ]
  },
  {
   "cell_type": "code",
   "execution_count": 13,
   "id": "e9e96fb6-a8bb-4a14-8cd2-7bde80141334",
   "metadata": {},
   "outputs": [],
   "source": [
    "#Q2. Name the four pillars of OOPs."
   ]
  },
  {
   "cell_type": "code",
   "execution_count": 17,
   "id": "cb595e06-7bdd-4de8-adc2-fdad6303d130",
   "metadata": {},
   "outputs": [],
   "source": [
    "#Encapsulation \n",
    "\n",
    "class Person:\n",
    "    def __init__(self, name, age):\n",
    "        self.__name = name  # Private attribute\n",
    "        self.__age = age    # Private attribute\n",
    "\n",
    "    def get_name(self):\n",
    "        return self.__name\n",
    "\n",
    "    def set_name(self, name):\n",
    "        self.__name = name\n",
    "\n",
    "    def get_age(self):\n",
    "        return self.__age\n",
    "\n",
    "    def set_age(self, age):\n",
    "        if age > 0:\n",
    "            self.__age = age\n",
    "        else:\n",
    "            print(\"Age cannot be negative\")\n"
   ]
  },
  {
   "cell_type": "code",
   "execution_count": 35,
   "id": "98c86467-a1f1-44a5-b586-57f0bd32b8ae",
   "metadata": {},
   "outputs": [],
   "source": [
    "#Inheritance\n",
    "\n",
    "class Animal:\n",
    "    def speak(self):\n",
    "        print(\"Animal speaks\")\n",
    "\n",
    "class Dog(Animal):\n",
    "    def speak(self):\n",
    "        print(\"Dog barks\")"
   ]
  },
  {
   "cell_type": "code",
   "execution_count": 33,
   "id": "6e8ce4fc-2c72-40de-ae1c-8bf73889896f",
   "metadata": {},
   "outputs": [],
   "source": [
    "dog = Dog()"
   ]
  },
  {
   "cell_type": "code",
   "execution_count": 34,
   "id": "ff928079-428e-47b2-b77c-72104b8186de",
   "metadata": {},
   "outputs": [
    {
     "name": "stdout",
     "output_type": "stream",
     "text": [
      "Dog barks\n"
     ]
    }
   ],
   "source": [
    "dog.speak()"
   ]
  },
  {
   "cell_type": "code",
   "execution_count": 21,
   "id": "c1a7e8db-9903-4098-b195-6e2c704b26e3",
   "metadata": {},
   "outputs": [
    {
     "name": "stdout",
     "output_type": "stream",
     "text": [
      "Sparrow flies\n"
     ]
    }
   ],
   "source": [
    "#olimorphism\n",
    "\n",
    "class Bird:\n",
    "    def fly(self):\n",
    "        print(\"Bird flies\")\n",
    "\n",
    "class Sparrow(Bird):\n",
    "    def fly(self):\n",
    "        print(\"Sparrow flies\")\n",
    "\n",
    "class Ostrich(Bird):\n",
    "    def fly(self):\n",
    "        print(\"Ostrich cannot fly\")\n",
    "\n",
    "# Example usage\n",
    "def make_bird_fly(bird):\n",
    "    bird.fly()\n",
    "\n",
    "sparrow = Sparrow()\n",
    "ostrich = Ostrich()\n",
    "\n",
    "make_bird_fly(sparrow)"
   ]
  },
  {
   "cell_type": "code",
   "execution_count": 22,
   "id": "4d5f1e27-c5f0-45da-8964-370b8d074ad2",
   "metadata": {},
   "outputs": [
    {
     "name": "stdout",
     "output_type": "stream",
     "text": [
      "Ostrich cannot fly\n"
     ]
    }
   ],
   "source": [
    "make_bird_fly(ostrich)"
   ]
  },
  {
   "cell_type": "code",
   "execution_count": 28,
   "id": "4af0a332-8a31-4304-a156-1279d97d2742",
   "metadata": {},
   "outputs": [],
   "source": [
    "#Abstraction\n",
    "\n",
    "from abc import ABC, abstractmethod\n",
    "\n",
    "class Shape(ABC):\n",
    "    @abstractmethod\n",
    "    def area(self):\n",
    "        pass\n",
    "\n",
    "class Rectangle(Shape):\n",
    "    def __init__(self, width, height):\n",
    "        self.width = width\n",
    "        self.height = height\n",
    "\n",
    "    def area(self):\n",
    "        return self.width * self.height\n",
    "\n",
    "class Circle(Shape):\n",
    "    def __init__(self, radius):\n",
    "        self.radius = radius\n",
    "\n",
    "    def area(self):\n",
    "        return 3.14 * self.radius * self.radius"
   ]
  },
  {
   "cell_type": "code",
   "execution_count": 29,
   "id": "23acb271-e7d1-4a49-9ac1-de348681aebd",
   "metadata": {},
   "outputs": [],
   "source": [
    "rectangle = Rectangle(10, 20)\n",
    "circle = Circle(5)"
   ]
  },
  {
   "cell_type": "code",
   "execution_count": 30,
   "id": "b50682ea-5e09-4621-ab98-56b860917c49",
   "metadata": {},
   "outputs": [
    {
     "name": "stdout",
     "output_type": "stream",
     "text": [
      "200\n"
     ]
    }
   ],
   "source": [
    "print(rectangle.area())"
   ]
  },
  {
   "cell_type": "code",
   "execution_count": 32,
   "id": "6fdc96ed-2cb7-40fd-b40d-cd120469017f",
   "metadata": {},
   "outputs": [
    {
     "name": "stdout",
     "output_type": "stream",
     "text": [
      "78.5\n"
     ]
    }
   ],
   "source": [
    "print(circle.area())"
   ]
  },
  {
   "cell_type": "code",
   "execution_count": 36,
   "id": "75bcb538-c3fb-4f36-90f8-d98ba5537342",
   "metadata": {},
   "outputs": [],
   "source": [
    "#Q3. Explain why the __init__() function is used. Give a suitable example?"
   ]
  },
  {
   "cell_type": "code",
   "execution_count": 37,
   "id": "dc6b31f7-6d5d-4441-add7-bf72a5b597cf",
   "metadata": {},
   "outputs": [],
   "source": [
    "class Person:\n",
    "    def __init__(self, name, age):\n",
    "        self.name = name \n",
    "        self.age = age \n",
    "\n",
    "    def display_info(self):\n",
    "        print(f\"Name: {self.name}, Age: {self.age}\")"
   ]
  },
  {
   "cell_type": "code",
   "execution_count": 43,
   "id": "eaed15ae-76c8-459e-b8fd-57e4182a3f63",
   "metadata": {},
   "outputs": [],
   "source": [
    "person1 = Person(\"Alice\", 30)"
   ]
  },
  {
   "cell_type": "code",
   "execution_count": 44,
   "id": "0eae526f-4588-479e-8d6f-2ee7943879bf",
   "metadata": {},
   "outputs": [],
   "source": [
    "person2 = Person(\"Bob\", 25)"
   ]
  },
  {
   "cell_type": "code",
   "execution_count": 45,
   "id": "0c20dc54-fb3e-4c56-8686-b3658b51ca09",
   "metadata": {},
   "outputs": [
    {
     "name": "stdout",
     "output_type": "stream",
     "text": [
      "Name: Alice, Age: 30\n"
     ]
    }
   ],
   "source": [
    "person1.display_info()"
   ]
  },
  {
   "cell_type": "code",
   "execution_count": 46,
   "id": "03cc45ab-8df4-49f4-8baf-4d0692dbb029",
   "metadata": {},
   "outputs": [
    {
     "name": "stdout",
     "output_type": "stream",
     "text": [
      "Name: Bob, Age: 25\n"
     ]
    }
   ],
   "source": [
    "person2.display_info()"
   ]
  },
  {
   "cell_type": "code",
   "execution_count": 57,
   "id": "3c981e3b-9d6d-4f9e-86ec-5181c8e3b0d3",
   "metadata": {},
   "outputs": [
    {
     "data": {
      "text/plain": [
       "'Answer:\\nThe “self” keyword represents the instance of the class. By using the “self” keyword, we can access the attributes and methods of the class. \\nIt is useful in method definitions and in variable initialization. The “self” is explicitly used every time we define a method.'"
      ]
     },
     "execution_count": 57,
     "metadata": {},
     "output_type": "execute_result"
    }
   ],
   "source": [
    "#Q4. Why self is used in OOPs?\n",
    "\n",
    "'''Answer:\n",
    "The “self” keyword represents the instance of the class. By using the “self” keyword, we can access the attributes and methods of the class. \n",
    "It is useful in method definitions and in variable initialization. The “self” is explicitly used every time we define a method.'''"
   ]
  },
  {
   "cell_type": "code",
   "execution_count": 49,
   "id": "cffee1f4-b57b-4cfd-95c2-085af4584862",
   "metadata": {},
   "outputs": [],
   "source": [
    "#Q5. What is inheritance? Give an example for each type of inheritance?"
   ]
  },
  {
   "cell_type": "code",
   "execution_count": 58,
   "id": "32b526c7-bede-41c2-a4b4-904c6ae5bb0c",
   "metadata": {},
   "outputs": [
    {
     "data": {
      "text/plain": [
       "'Inheritance is a fundamental concept in object-oriented programming (OOP) that allows a new class (derived class) to inherit attributes and methods from an existing class (base class). \\nThis promotes code reuse and establishes a natural hierarchy between classes.'"
      ]
     },
     "execution_count": 58,
     "metadata": {},
     "output_type": "execute_result"
    }
   ],
   "source": [
    "'''Inheritance is a fundamental concept in object-oriented programming (OOP) that allows a new class (derived class) to inherit attributes and methods from an existing class (base class). \n",
    "This promotes code reuse and establishes a natural hierarchy between classes.'''"
   ]
  },
  {
   "cell_type": "code",
   "execution_count": 50,
   "id": "3cde1b82-fc46-4472-8014-4d187ce913d3",
   "metadata": {},
   "outputs": [
    {
     "name": "stdout",
     "output_type": "stream",
     "text": [
      "Animal is eating\n",
      "Dog is barking\n"
     ]
    }
   ],
   "source": [
    "#Single Inheritance:\n",
    "\n",
    "class Animal:\n",
    "    def eat(self):\n",
    "        print(\"Animal is eating\")\n",
    "\n",
    "class Dog(Animal):\n",
    "    def bark(self):\n",
    "        print(\"Dog is barking\")\n",
    "\n",
    "# Example usage\n",
    "dog = Dog()\n",
    "dog.eat()   # Output: Animal is eating\n",
    "dog.bark()  # Output: Dog is barking\n"
   ]
  },
  {
   "cell_type": "code",
   "execution_count": 51,
   "id": "8ecb336c-4c1b-4393-8533-325d89848a3d",
   "metadata": {},
   "outputs": [
    {
     "name": "stdout",
     "output_type": "stream",
     "text": [
      "Engine is starting\n",
      "Door is opening\n",
      "Car is driving\n"
     ]
    }
   ],
   "source": [
    "#Multiple Inheritance:\n",
    "\n",
    "class Engine:\n",
    "    def start_engine(self):\n",
    "        print(\"Engine is starting\")\n",
    "\n",
    "class Body:\n",
    "    def open_door(self):\n",
    "        print(\"Door is opening\")\n",
    "\n",
    "class Car(Engine, Body):\n",
    "    def drive(self):\n",
    "        print(\"Car is driving\")\n",
    "\n",
    "# Example usage\n",
    "car = Car()\n",
    "car.start_engine()  # Output: Engine is starting\n",
    "car.open_door()     # Output: Door is opening\n",
    "car.drive()         # Output: Car is driving\n"
   ]
  },
  {
   "cell_type": "code",
   "execution_count": 52,
   "id": "fdb0158b-f5e2-4ec1-84a8-323cbb284271",
   "metadata": {},
   "outputs": [
    {
     "name": "stdout",
     "output_type": "stream",
     "text": [
      "Animal is eating\n",
      "Mammal is walking\n",
      "Dog is barking\n"
     ]
    }
   ],
   "source": [
    "#Multilevel Inheritance:\n",
    "\n",
    "class Animal:\n",
    "    def eat(self):\n",
    "        print(\"Animal is eating\")\n",
    "\n",
    "class Mammal(Animal):\n",
    "    def walk(self):\n",
    "        print(\"Mammal is walking\")\n",
    "\n",
    "class Dog(Mammal):\n",
    "    def bark(self):\n",
    "        print(\"Dog is barking\")\n",
    "\n",
    "# Example usage\n",
    "dog = Dog()\n",
    "dog.eat()   # Output: Animal is eating\n",
    "dog.walk()  # Output: Mammal is walking\n",
    "dog.bark()  # Output: Dog is barking\n"
   ]
  },
  {
   "cell_type": "code",
   "execution_count": 53,
   "id": "03c072db-aa7a-4fc9-ac5c-fcd786a3a296",
   "metadata": {},
   "outputs": [
    {
     "name": "stdout",
     "output_type": "stream",
     "text": [
      "Animal is eating\n",
      "Dog is barking\n",
      "Animal is eating\n",
      "Cat is meowing\n"
     ]
    }
   ],
   "source": [
    "#Hierarchical Inheritance:\n",
    "\n",
    "class Animal:\n",
    "    def eat(self):\n",
    "        print(\"Animal is eating\")\n",
    "\n",
    "class Dog(Animal):\n",
    "    def bark(self):\n",
    "        print(\"Dog is barking\")\n",
    "\n",
    "class Cat(Animal):\n",
    "    def meow(self):\n",
    "        print(\"Cat is meowing\")\n",
    "\n",
    "# Example usage\n",
    "dog = Dog()\n",
    "cat = Cat()\n",
    "dog.eat()   # Output: Animal is eating\n",
    "dog.bark()  # Output: Dog is barking\n",
    "cat.eat()   # Output: Animal is eating\n",
    "cat.meow()  # Output: Cat is meowing\n"
   ]
  },
  {
   "cell_type": "code",
   "execution_count": 54,
   "id": "fbff93e4-323d-4a2f-89a6-69fade00675c",
   "metadata": {},
   "outputs": [
    {
     "name": "stdout",
     "output_type": "stream",
     "text": [
      "Engine is starting\n",
      "Door is opening\n",
      "Vehicle is moving\n",
      "Car is driving\n"
     ]
    }
   ],
   "source": [
    "#Hybrid Inheritance:\n",
    "\n",
    "class Engine:\n",
    "    def start_engine(self):\n",
    "        print(\"Engine is starting\")\n",
    "\n",
    "class Body:\n",
    "    def open_door(self):\n",
    "        print(\"Door is opening\")\n",
    "\n",
    "class Vehicle:\n",
    "    def move(self):\n",
    "        print(\"Vehicle is moving\")\n",
    "\n",
    "class Car(Vehicle, Engine, Body):\n",
    "    def drive(self):\n",
    "        print(\"Car is driving\")\n",
    "\n",
    "# Example usage\n",
    "car = Car()\n",
    "car.start_engine()  # Output: Engine is starting\n",
    "car.open_door()     # Output: Door is opening\n",
    "car.move()          # Output: Vehicle is moving\n",
    "car.drive()         # Output: Car is driving\n"
   ]
  },
  {
   "cell_type": "code",
   "execution_count": null,
   "id": "af38ac72-c1d0-463e-93d3-c3fc67bf080a",
   "metadata": {},
   "outputs": [],
   "source": []
  }
 ],
 "metadata": {
  "kernelspec": {
   "display_name": "Python 3 (ipykernel)",
   "language": "python",
   "name": "python3"
  },
  "language_info": {
   "codemirror_mode": {
    "name": "ipython",
    "version": 3
   },
   "file_extension": ".py",
   "mimetype": "text/x-python",
   "name": "python",
   "nbconvert_exporter": "python",
   "pygments_lexer": "ipython3",
   "version": "3.10.8"
  }
 },
 "nbformat": 4,
 "nbformat_minor": 5
}
