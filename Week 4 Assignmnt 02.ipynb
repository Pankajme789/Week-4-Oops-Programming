{
 "cells": [
  {
   "cell_type": "code",
   "execution_count": 1,
   "id": "26b74638-af77-4b72-ba31-ee0b761b19f9",
   "metadata": {},
   "outputs": [],
   "source": [
    "#1. What is Abstraction in Oops? Explain with an example?"
   ]
  },
  {
   "cell_type": "code",
   "execution_count": 6,
   "id": "aa3a76f3-ca28-4bad-a897-973754282933",
   "metadata": {},
   "outputs": [],
   "source": [
    "from abc import ABC, abstractmethod\n",
    "\n",
    "class BankAccount(ABC):\n",
    "    def __init__(self, account_number, balance):\n",
    "        self.account_number = account_number\n",
    "        self.balance = balance\n",
    "\n",
    "    @abstractmethod\n",
    "    def deposit(self, amount):\n",
    "        pass\n",
    "\n",
    "    @abstractmethod\n",
    "    def withdraw(self, amount):\n",
    "        pass\n",
    "\n",
    "    def display_balance(self):\n",
    "        print(f\"Account Number: {self.account_number}, Balance: {self.balance}\")\n",
    "\n",
    "class SavingsAccount(BankAccount):\n",
    "    def deposit(self, amount):\n",
    "        self.balance += amount\n",
    "        print(f\"Deposited {amount} to Savings Account. New Balance: {self.balance}\")\n",
    "\n",
    "    def withdraw(self, amount):\n",
    "        if self.balance >= amount:\n",
    "            self.balance -= amount\n",
    "            print(f\"Withdrew {amount} from Savings Account. New Balance: {self.balance}\")\n",
    "        else:\n",
    "            print(\"Insufficient funds in Savings Account\")\n",
    "\n",
    "class CheckingAccount(BankAccount):\n",
    "    def deposit(self, amount):\n",
    "        self.balance += amount\n",
    "        print(f\"Deposited {amount} to Checking Account. New Balance: {self.balance}\")\n",
    "\n",
    "    def withdraw(self, amount):\n",
    "        if self.balance >= amount:\n",
    "            self.balance -= amount\n",
    "            print(f\"Withdrew {amount} from Checking Account. New Balance: {self.balance}\")\n",
    "        else:\n",
    "            print(\"Insufficient funds in Checking Account\")\n",
    "\n",
    "# Example usage\n",
    "savings = SavingsAccount(\"SA123\", 1000)\n",
    "checking = CheckingAccount(\"CA123\", 2000)"
   ]
  },
  {
   "cell_type": "code",
   "execution_count": 7,
   "id": "9440f996-2763-4100-9cce-49eca7eb9c48",
   "metadata": {},
   "outputs": [
    {
     "name": "stdout",
     "output_type": "stream",
     "text": [
      "Account Number: SA123, Balance: 1000\n",
      "Deposited 500 to Savings Account. New Balance: 1500\n",
      "Withdrew 200 from Savings Account. New Balance: 1300\n"
     ]
    }
   ],
   "source": [
    "savings.display_balance()\n",
    "savings.deposit(500)\n",
    "savings.withdraw(200)"
   ]
  },
  {
   "cell_type": "code",
   "execution_count": 8,
   "id": "acd02050-51a7-46e7-bb5b-e59cebce160a",
   "metadata": {},
   "outputs": [
    {
     "name": "stdout",
     "output_type": "stream",
     "text": [
      "Account Number: CA123, Balance: 2000\n",
      "Deposited 1000 to Checking Account. New Balance: 3000\n",
      "Withdrew 500 from Checking Account. New Balance: 2500\n"
     ]
    }
   ],
   "source": [
    "checking.display_balance()\n",
    "checking.deposit(1000)\n",
    "checking.withdraw(500)  "
   ]
  },
  {
   "cell_type": "code",
   "execution_count": null,
   "id": "63520346-27cd-4185-bcb6-b9cbdf2ae617",
   "metadata": {},
   "outputs": [],
   "source": [
    "#Q2. Differentiate between Abstraction and Encapsulation. Explain with an example?"
   ]
  },
  {
   "cell_type": "code",
   "execution_count": 9,
   "id": "348dd8d0-e33c-450a-aacc-5edef99830d1",
   "metadata": {},
   "outputs": [
    {
     "data": {
      "text/plain": [
       "'Abstraction and Encapsulation are two fundamental concepts in object-oriented programming, but they serve different purposes and are used in different contexts.'"
      ]
     },
     "execution_count": 9,
     "metadata": {},
     "output_type": "execute_result"
    }
   ],
   "source": [
    "\"\"\"Abstraction and Encapsulation are two fundamental concepts in object-oriented programming, but they serve different purposes and are used in different contexts.\"\"\""
   ]
  },
  {
   "cell_type": "code",
   "execution_count": 12,
   "id": "fa4ced02-293c-4784-af2f-87773511cb71",
   "metadata": {},
   "outputs": [
    {
     "name": "stdout",
     "output_type": "stream",
     "text": [
      "Area: 50\n",
      "Perimeter: 30\n"
     ]
    }
   ],
   "source": [
    "#Abstraction\n",
    "\n",
    "from abc import ABC, abstractmethod\n",
    "\n",
    "class Shape(ABC):\n",
    "    @abstractmethod\n",
    "    def area(self):\n",
    "        pass\n",
    "\n",
    "    @abstractmethod\n",
    "    def perimeter(self):\n",
    "        pass\n",
    "\n",
    "class Rectangle(Shape):\n",
    "    def __init__(self, width, height):\n",
    "        self.width = width\n",
    "        self.height = height\n",
    "\n",
    "    def area(self):\n",
    "        return self.width * self.height\n",
    "\n",
    "    def perimeter(self):\n",
    "        return 2 * (self.width + self.height)\n",
    "\n",
    "# Example usage\n",
    "rect = Rectangle(10, 5)\n",
    "print(\"Area:\", rect.area())         # Output: Area: 50\n",
    "print(\"Perimeter:\", rect.perimeter())  # Output: Perimeter: 30\n"
   ]
  },
  {
   "cell_type": "code",
   "execution_count": 13,
   "id": "ce6cea65-39aa-4dac-92dc-0a09cca7469b",
   "metadata": {},
   "outputs": [
    {
     "name": "stdout",
     "output_type": "stream",
     "text": [
      "Name: Alice\n",
      "Age: 30\n",
      "Updated Age: 35\n"
     ]
    }
   ],
   "source": [
    "#Encapsulation\n",
    "\n",
    "class Person:\n",
    "    def __init__(self, name, age):\n",
    "        self.__name = name  # Private attribute\n",
    "        self.__age = age    # Private attribute\n",
    "\n",
    "    def get_name(self):\n",
    "        return self.__name\n",
    "\n",
    "    def set_name(self, name):\n",
    "        self.__name = name\n",
    "\n",
    "    def get_age(self):\n",
    "        return self.__age\n",
    "\n",
    "    def set_age(self, age):\n",
    "        if age > 0:\n",
    "            self.__age = age\n",
    "        else:\n",
    "            print(\"Age cannot be negative\")\n",
    "\n",
    "# Example usage\n",
    "person = Person(\"Alice\", 30)\n",
    "print(\"Name:\", person.get_name())  # Output: Name: Alice\n",
    "print(\"Age:\", person.get_age())    # Output: Age: 30\n",
    "\n",
    "person.set_age(35)\n",
    "print(\"Updated Age:\", person.get_age())  # Output: Updated Age: 35"
   ]
  },
  {
   "cell_type": "code",
   "execution_count": null,
   "id": "76b93c0c-a249-4a81-a99e-ac1981d9ca1c",
   "metadata": {},
   "outputs": [],
   "source": [
    "#Q3. What is abc module in python? Why is it used?"
   ]
  },
  {
   "cell_type": "code",
   "execution_count": 14,
   "id": "bf0acd68-ca26-427f-a79e-203490fb8fb9",
   "metadata": {},
   "outputs": [
    {
     "name": "stdout",
     "output_type": "stream",
     "text": [
      "Area: 50\n",
      "Perimeter: 30\n"
     ]
    }
   ],
   "source": [
    "from abc import ABC, abstractmethod\n",
    "\n",
    "class Shape(ABC):\n",
    "    @abstractmethod\n",
    "    def area(self):\n",
    "        pass\n",
    "\n",
    "    @abstractmethod\n",
    "    def perimeter(self):\n",
    "        pass\n",
    "\n",
    "class Rectangle(Shape):\n",
    "    def __init__(self, width, height):\n",
    "        self.width = width\n",
    "        self.height = height\n",
    "\n",
    "    def area(self):\n",
    "        return self.width * self.height\n",
    "\n",
    "    def perimeter(self):\n",
    "        return 2 * (self.width + self.height)\n",
    "\n",
    "# Creating instances\n",
    "rect = Rectangle(5, 10)\n",
    "print(\"Area:\", rect.area())         # Output: Area: 50\n",
    "print(\"Perimeter:\", rect.perimeter())  # Output: Perimeter: 30\n"
   ]
  },
  {
   "cell_type": "code",
   "execution_count": 3,
   "id": "c98e6ac0-7a4d-4cf7-8b5c-008a46c2cb54",
   "metadata": {},
   "outputs": [],
   "source": [
    "#Q4. How can we achieve data abstraction?"
   ]
  },
  {
   "cell_type": "code",
   "execution_count": 15,
   "id": "b3a76245-7b73-4374-90f5-94c8cc989ec7",
   "metadata": {},
   "outputs": [
    {
     "name": "stdout",
     "output_type": "stream",
     "text": [
      "Area: 50\n",
      "Perimeter: 30\n"
     ]
    }
   ],
   "source": [
    "from abc import ABC, abstractmethod\n",
    "\n",
    "class Shape(ABC):\n",
    "    @abstractmethod\n",
    "    def area(self):\n",
    "        pass\n",
    "\n",
    "    @abstractmethod\n",
    "    def perimeter(self):\n",
    "        pass\n",
    "\n",
    "class Rectangle(Shape):\n",
    "    def __init__(self, width, height):\n",
    "        self.width = width\n",
    "        self.height = height\n",
    "\n",
    "    def area(self):\n",
    "        return self.width * self.height\n",
    "\n",
    "    def perimeter(self):\n",
    "        return 2 * (self.width + self.height)\n",
    "\n",
    "# Usage\n",
    "rect = Rectangle(5, 10)\n",
    "print(\"Area:\", rect.area())         # Output: Area: 50\n",
    "print(\"Perimeter:\", rect.perimeter())  # Output: Perimeter: 30\n"
   ]
  },
  {
   "cell_type": "code",
   "execution_count": 16,
   "id": "2e86dd76-f603-4eb5-88e2-201e9ebbb8df",
   "metadata": {},
   "outputs": [
    {
     "name": "stdout",
     "output_type": "stream",
     "text": [
      "Dog says: Woof!\n",
      "Cat says: Meow!\n"
     ]
    }
   ],
   "source": [
    "from abc import ABC, abstractmethod\n",
    "\n",
    "class Animal(ABC):\n",
    "    @abstractmethod\n",
    "    def sound(self):\n",
    "        pass\n",
    "\n",
    "class Dog(Animal):\n",
    "    def sound(self):\n",
    "        return \"Woof!\"\n",
    "\n",
    "class Cat(Animal):\n",
    "    def sound(self):\n",
    "        return \"Meow!\"\n",
    "\n",
    "# Usage\n",
    "dog = Dog()\n",
    "print(\"Dog says:\", dog.sound())  # Output: Dog says: Woof!\n",
    "\n",
    "cat = Cat()\n",
    "print(\"Cat says:\", cat.sound())  # Output: Cat says: Meow!\n"
   ]
  },
  {
   "cell_type": "code",
   "execution_count": 4,
   "id": "dedb0fa2-3135-4f7a-94db-09b7ab5f9cef",
   "metadata": {},
   "outputs": [],
   "source": [
    "#Q5. Can we create an instance of an abstract class? Explain your answer?"
   ]
  },
  {
   "cell_type": "code",
   "execution_count": 17,
   "id": "76c7892c-4d59-4bf3-99f0-887867f573da",
   "metadata": {},
   "outputs": [
    {
     "ename": "TypeError",
     "evalue": "Can't instantiate abstract class Shape with abstract methods area, perimeter",
     "output_type": "error",
     "traceback": [
      "\u001b[0;31m---------------------------------------------------------------------------\u001b[0m",
      "\u001b[0;31mTypeError\u001b[0m                                 Traceback (most recent call last)",
      "Cell \u001b[0;32mIn[17], line 13\u001b[0m\n\u001b[1;32m     10\u001b[0m         \u001b[38;5;28;01mpass\u001b[39;00m\n\u001b[1;32m     12\u001b[0m \u001b[38;5;66;03m# Trying to instantiate an abstract class\u001b[39;00m\n\u001b[0;32m---> 13\u001b[0m shape \u001b[38;5;241m=\u001b[39m \u001b[43mShape\u001b[49m\u001b[43m(\u001b[49m\u001b[43m)\u001b[49m  \u001b[38;5;66;03m# This will raise TypeError: Can't instantiate abstract class Shape with abstract methods area, perimeter\u001b[39;00m\n",
      "\u001b[0;31mTypeError\u001b[0m: Can't instantiate abstract class Shape with abstract methods area, perimeter"
     ]
    }
   ],
   "source": [
    "from abc import ABC, abstractmethod\n",
    "\n",
    "class Shape(ABC):\n",
    "    @abstractmethod\n",
    "    def area(self):\n",
    "        pass\n",
    "\n",
    "    @abstractmethod\n",
    "    def perimeter(self):\n",
    "        pass\n",
    "\n",
    "# Trying to instantiate an abstract class\n",
    "shape = Shape()  # This will raise TypeError: Can't instantiate abstract class Shape with abstract methods area, perimeter\n"
   ]
  },
  {
   "cell_type": "code",
   "execution_count": null,
   "id": "dd78c0ba-02a2-4ec6-af3b-65121228ae57",
   "metadata": {},
   "outputs": [],
   "source": []
  }
 ],
 "metadata": {
  "kernelspec": {
   "display_name": "Python 3 (ipykernel)",
   "language": "python",
   "name": "python3"
  },
  "language_info": {
   "codemirror_mode": {
    "name": "ipython",
    "version": 3
   },
   "file_extension": ".py",
   "mimetype": "text/x-python",
   "name": "python",
   "nbconvert_exporter": "python",
   "pygments_lexer": "ipython3",
   "version": "3.10.8"
  }
 },
 "nbformat": 4,
 "nbformat_minor": 5
}
